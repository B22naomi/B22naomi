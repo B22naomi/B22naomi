{
  "nbformat": 4,
  "nbformat_minor": 0,
  "metadata": {
    "colab": {
      "provenance": [],
      "authorship_tag": "ABX9TyOGNnGjZI1HhuggxjI7FMzb",
      "include_colab_link": true
    },
    "kernelspec": {
      "name": "python3",
      "display_name": "Python 3"
    },
    "language_info": {
      "name": "python"
    }
  },
  "cells": [
    {
      "cell_type": "markdown",
      "metadata": {
        "id": "view-in-github",
        "colab_type": "text"
      },
      "source": [
        "<a href=\"https://colab.research.google.com/github/B22naomi/B22naomi/blob/main/Diabetes.ipynb\" target=\"_parent\"><img src=\"https://colab.research.google.com/assets/colab-badge.svg\" alt=\"Open In Colab\"/></a>"
      ]
    },
    {
      "cell_type": "code",
      "execution_count": null,
      "metadata": {
        "id": "Z9DyakUFAXNW"
      },
      "outputs": [],
      "source": [
        "#using diabetes dataset\n",
        "#load the dataset and convert to dataframe\n",
        "#describe the dataset\n",
        "\n",
        "\n",
        "#voting\n",
        "#bagging\n",
        "#boosting:AdaBoost, XGBoost"
      ]
    }
  ]
}